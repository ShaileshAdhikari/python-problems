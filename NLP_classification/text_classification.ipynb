{
 "cells": [
  {
   "cell_type": "code",
   "execution_count": 1,
   "metadata": {
    "pycharm": {
     "name": "#%%\n"
    }
   },
   "outputs": [
    {
     "name": "stderr",
     "output_type": "stream",
     "text": [
      "[nltk_data] Downloading package stopwords to /home/rasello-\n",
      "[nltk_data]     ai/nltk_data...\n",
      "[nltk_data]   Package stopwords is already up-to-date!\n",
      "[nltk_data] Downloading package punkt to /home/rasello-ai/nltk_data...\n",
      "[nltk_data]   Package punkt is already up-to-date!\n",
      "[nltk_data] Downloading package averaged_perceptron_tagger to\n",
      "[nltk_data]     /home/rasello-ai/nltk_data...\n",
      "[nltk_data]   Package averaged_perceptron_tagger is already up-to-\n",
      "[nltk_data]       date!\n",
      "[nltk_data] Downloading package wordnet to /home/rasello-\n",
      "[nltk_data]     ai/nltk_data...\n",
      "[nltk_data]   Package wordnet is already up-to-date!\n",
      "[nltk_data] Downloading package omw-1.4 to /home/rasello-\n",
      "[nltk_data]     ai/nltk_data...\n",
      "[nltk_data]   Package omw-1.4 is already up-to-date!\n"
     ]
    },
    {
     "data": {
      "text/plain": [
       "True"
      ]
     },
     "execution_count": 1,
     "metadata": {},
     "output_type": "execute_result"
    }
   ],
   "source": [
    "import pandas as pd\n",
    "import numpy as np\n",
    "import nltk\n",
    "import re, string\n",
    "\n",
    "nltk.download('stopwords') # Lidt of stopwords\n",
    "nltk.download('punkt') # Punkt Sentence Tokenizer\n",
    "nltk.download('averaged_perceptron_tagger') # tagging words with their parts of speech (POS)\n",
    "nltk.download('wordnet') # lexical database of semantic relations between words \n",
    "nltk.download('omw-1.4') # nltk courpous lazy loader"
   ]
  },
  {
   "cell_type": "code",
   "execution_count": 2,
   "metadata": {
    "pycharm": {
     "name": "#%%\n"
    }
   },
   "outputs": [
    {
     "data": {
      "text/plain": [
       "23615"
      ]
     },
     "execution_count": 2,
     "metadata": {},
     "output_type": "execute_result"
    }
   ],
   "source": [
    "train = 'data/train_set.csv'\n",
    "df = pd.read_csv(train,header=0,encoding='ISO-8859-1')\n",
    "len(df)"
   ]
  },
  {
   "cell_type": "code",
   "execution_count": 3,
   "metadata": {},
   "outputs": [
    {
     "data": {
      "text/plain": [
       "11348"
      ]
     },
     "execution_count": 3,
     "metadata": {},
     "output_type": "execute_result"
    }
   ],
   "source": [
    "df.drop_duplicates(subset =\"text\",keep = 'first', inplace = True)\n",
    "len(df)"
   ]
  },
  {
   "cell_type": "code",
   "execution_count": 4,
   "metadata": {
    "pycharm": {
     "name": "#%%\n"
    }
   },
   "outputs": [
    {
     "data": {
      "text/html": [
       "<div>\n",
       "<style scoped>\n",
       "    .dataframe tbody tr th:only-of-type {\n",
       "        vertical-align: middle;\n",
       "    }\n",
       "\n",
       "    .dataframe tbody tr th {\n",
       "        vertical-align: top;\n",
       "    }\n",
       "\n",
       "    .dataframe thead th {\n",
       "        text-align: right;\n",
       "    }\n",
       "</style>\n",
       "<table border=\"1\" class=\"dataframe\">\n",
       "  <thead>\n",
       "    <tr style=\"text-align: right;\">\n",
       "      <th></th>\n",
       "      <th>label</th>\n",
       "      <th>text</th>\n",
       "    </tr>\n",
       "  </thead>\n",
       "  <tbody>\n",
       "    <tr>\n",
       "      <th>0</th>\n",
       "      <td>85389000</td>\n",
       "      <td>pdscpm gb part of panel of chiller</td>\n",
       "    </tr>\n",
       "    <tr>\n",
       "      <th>1</th>\n",
       "      <td>85389000</td>\n",
       "      <td>nm  p economical extended rot hand parts for c...</td>\n",
       "    </tr>\n",
       "    <tr>\n",
       "      <th>2</th>\n",
       "      <td>85389000</td>\n",
       "      <td>lv ma pd trip unit for cvs parts of circuit br...</td>\n",
       "    </tr>\n",
       "    <tr>\n",
       "      <th>3</th>\n",
       "      <td>85389000</td>\n",
       "      <td>lv na p trip unit for cvs switch parts of circ...</td>\n",
       "    </tr>\n",
       "    <tr>\n",
       "      <th>4</th>\n",
       "      <td>85389000</td>\n",
       "      <td>lv tmd pd trip unit for cvs parts of circuitbr...</td>\n",
       "    </tr>\n",
       "  </tbody>\n",
       "</table>\n",
       "</div>"
      ],
      "text/plain": [
       "      label                                               text\n",
       "0  85389000                 pdscpm gb part of panel of chiller\n",
       "1  85389000  nm  p economical extended rot hand parts for c...\n",
       "2  85389000  lv ma pd trip unit for cvs parts of circuit br...\n",
       "3  85389000  lv na p trip unit for cvs switch parts of circ...\n",
       "4  85389000  lv tmd pd trip unit for cvs parts of circuitbr..."
      ]
     },
     "execution_count": 4,
     "metadata": {},
     "output_type": "execute_result"
    }
   ],
   "source": [
    "df.head(5)"
   ]
  },
  {
   "cell_type": "code",
   "execution_count": 5,
   "metadata": {
    "pycharm": {
     "name": "#%%\n"
    }
   },
   "outputs": [
    {
     "data": {
      "text/plain": [
       "<AxesSubplot:>"
      ]
     },
     "execution_count": 5,
     "metadata": {},
     "output_type": "execute_result"
    },
    {
     "data": {
      "image/png": "[encoded data removed]",
      "text/plain": [
       "<Figure size 432x288 with 1 Axes>"
      ]
     },
     "metadata": {
      "needs_background": "light"
     },
     "output_type": "display_data"
    }
   ],
   "source": [
    "df['label'].value_counts().plot(kind='bar')"
   ]
  },
  {
   "cell_type": "code",
   "execution_count": 6,
   "metadata": {
    "pycharm": {
     "name": "#%%\n"
    }
   },
   "outputs": [
    {
     "data": {
      "text/plain": [
       "label    0\n",
       "text     0\n",
       "dtype: int64"
      ]
     },
     "execution_count": 6,
     "metadata": {},
     "output_type": "execute_result"
    }
   ],
   "source": [
    "df.isna().sum()"
   ]
  },
  {
   "cell_type": "markdown",
   "metadata": {
    "pycharm": {
     "name": "#%% raw\n"
    }
   },
   "source": [
    "### Simple text cleaning processes: Some of the common text cleaning process involves:\n",
    "* Removing punctuations, special characters, URLs & hashtags\n",
    "* Removing leading, trailing & extra white spaces/tabs\n",
    "* Typos, slangs are corrected, abbreviations are written in their long forms\n",
    "\n",
    "### Stop-word removal\n",
    "* removing words like , ‘i’,’you’,’a’,’the’,’he’,’which’ etc.\n",
    "\n",
    "### Stemming \n",
    "* slicing the end or the beginning of words with the intention of removing affixes(prefix/suffix)\n",
    "* information -> inform or having -> hav\n",
    "\n",
    "### Lemmatization\n",
    "* It is the process of reducing the word to its base form\n",
    "* information -> information or having -> have"
   ]
  },
  {
   "cell_type": "code",
   "execution_count": 7,
   "metadata": {
    "pycharm": {
     "name": "#%%\n"
    }
   },
   "outputs": [],
   "source": [
    "#convert to lowercase, strip and remove punctuations\n",
    "def preprocess(text):\n",
    "    text = text.lower() # to lowercase\n",
    "    \n",
    "    text = text.strip()  \n",
    "    text = re.compile('<.*?>').sub('', text) \n",
    "    text = re.compile('[%s]' % re.escape(string.punctuation)).sub(' ', text)\n",
    "    \n",
    "    text = re.sub('\\s+', ' ', text)  \n",
    "    text = re.sub(r'\\[[0-9]*\\]',' ',text) # removing numbers\n",
    "    text = re.sub(r'[^\\w\\s]', '', str(text).lower().strip()) # removing all the puncatation\n",
    "    text = re.sub(r'\\d',' ',text) # removing tariling space\n",
    "    text = re.sub(r'\\s+',' ',text) \n",
    "    return text"
   ]
  },
  {
   "cell_type": "code",
   "execution_count": 8,
   "metadata": {},
   "outputs": [],
   "source": [
    "from nltk.corpus import stopwords\n",
    "\n",
    "# STOPWORD REMOVAL\n",
    "def stopword(string):\n",
    "    a= [i for i in string.split() if i not in stopwords.words('english')]\n",
    "    return ' '.join(a)"
   ]
  },
  {
   "cell_type": "code",
   "execution_count": 9,
   "metadata": {},
   "outputs": [],
   "source": [
    "from nltk.tokenize import word_tokenize\n",
    "from nltk.corpus import wordnet\n",
    "from nltk.stem import WordNetLemmatizer\n",
    "\n",
    "#LEMMATIZATION\n",
    "# Initialize the lemmatizer\n",
    "wl = WordNetLemmatizer()\n",
    " \n",
    "# This is a helper function to map NTLK position tags\n",
    "def get_wordnet_pos(tag):\n",
    "    if tag.startswith('J'):\n",
    "        return wordnet.ADJ\n",
    "    elif tag.startswith('V'):\n",
    "        return wordnet.VERB\n",
    "    elif tag.startswith('N'):\n",
    "        return wordnet.NOUN\n",
    "    elif tag.startswith('R'):\n",
    "        return wordnet.ADV\n",
    "    else:\n",
    "        return wordnet.NOUN\n",
    "# Tokenize the sentence\n",
    "def lemmatizer(string):\n",
    "    word_pos_tags = nltk.pos_tag(word_tokenize(string)) # Get position tags\n",
    "    \n",
    "    a=[wl.lemmatize(tag[0], get_wordnet_pos(tag[1])) for idx, tag in enumerate(word_pos_tags)] # Map the position tag and lemmatize the word/token\n",
    "    return \" \".join(a)"
   ]
  },
  {
   "cell_type": "code",
   "execution_count": 10,
   "metadata": {},
   "outputs": [
    {
     "data": {
      "text/html": [
       "<div>\n",
       "<style scoped>\n",
       "    .dataframe tbody tr th:only-of-type {\n",
       "        vertical-align: middle;\n",
       "    }\n",
       "\n",
       "    .dataframe tbody tr th {\n",
       "        vertical-align: top;\n",
       "    }\n",
       "\n",
       "    .dataframe thead th {\n",
       "        text-align: right;\n",
       "    }\n",
       "</style>\n",
       "<table border=\"1\" class=\"dataframe\">\n",
       "  <thead>\n",
       "    <tr style=\"text-align: right;\">\n",
       "      <th></th>\n",
       "      <th>label</th>\n",
       "      <th>text</th>\n",
       "      <th>clean_text</th>\n",
       "    </tr>\n",
       "  </thead>\n",
       "  <tbody>\n",
       "    <tr>\n",
       "      <th>0</th>\n",
       "      <td>85389000</td>\n",
       "      <td>pdscpm gb part of panel of chiller</td>\n",
       "      <td>pdscpm gb part panel chiller</td>\n",
       "    </tr>\n",
       "    <tr>\n",
       "      <th>1</th>\n",
       "      <td>85389000</td>\n",
       "      <td>nm  p economical extended rot hand parts for c...</td>\n",
       "      <td>nm p economical extend rot hand part circuit b...</td>\n",
       "    </tr>\n",
       "    <tr>\n",
       "      <th>2</th>\n",
       "      <td>85389000</td>\n",
       "      <td>lv ma pd trip unit for cvs parts of circuit br...</td>\n",
       "      <td>lv pd trip unit cv part circuit breaker</td>\n",
       "    </tr>\n",
       "    <tr>\n",
       "      <th>3</th>\n",
       "      <td>85389000</td>\n",
       "      <td>lv na p trip unit for cvs switch parts of circ...</td>\n",
       "      <td>lv na p trip unit cv switch part circuit breaker</td>\n",
       "    </tr>\n",
       "    <tr>\n",
       "      <th>4</th>\n",
       "      <td>85389000</td>\n",
       "      <td>lv tmd pd trip unit for cvs parts of circuitbr...</td>\n",
       "      <td>lv tmd pd trip unit cv part circuitbreakers</td>\n",
       "    </tr>\n",
       "  </tbody>\n",
       "</table>\n",
       "</div>"
      ],
      "text/plain": [
       "      label                                               text  \\\n",
       "0  85389000                 pdscpm gb part of panel of chiller   \n",
       "1  85389000  nm  p economical extended rot hand parts for c...   \n",
       "2  85389000  lv ma pd trip unit for cvs parts of circuit br...   \n",
       "3  85389000  lv na p trip unit for cvs switch parts of circ...   \n",
       "4  85389000  lv tmd pd trip unit for cvs parts of circuitbr...   \n",
       "\n",
       "                                          clean_text  \n",
       "0                       pdscpm gb part panel chiller  \n",
       "1  nm p economical extend rot hand part circuit b...  \n",
       "2            lv pd trip unit cv part circuit breaker  \n",
       "3   lv na p trip unit cv switch part circuit breaker  \n",
       "4        lv tmd pd trip unit cv part circuitbreakers  "
      ]
     },
     "execution_count": 10,
     "metadata": {},
     "output_type": "execute_result"
    }
   ],
   "source": [
    "def finalpreprocess(string):\n",
    "    return lemmatizer(stopword(preprocess(string)))\n",
    "\n",
    "df['clean_text'] = df['text'].apply(lambda x: finalpreprocess(x))\n",
    "df.head()"
   ]
  },
  {
   "cell_type": "markdown",
   "metadata": {},
   "source": [
    "### Few More steps"
   ]
  },
  {
   "cell_type": "code",
   "execution_count": 11,
   "metadata": {},
   "outputs": [],
   "source": [
    "# Create a new column 'category_id' with encoded categories \n",
    "df['category_id'] = df['label'].factorize()[0]\n",
    "category_id_df = df[['label', 'category_id']].drop_duplicates()\n",
    "\n",
    "# Dictionaries for future use\n",
    "category_to_id = dict(category_id_df.values)\n",
    "id_to_category = dict(category_id_df[['category_id', 'label']].values)"
   ]
  },
  {
   "cell_type": "code",
   "execution_count": 91,
   "metadata": {},
   "outputs": [],
   "source": [
    "df['clean_text_tok']=[nltk.word_tokenize(i) for i in df['clean_text']]"
   ]
  },
  {
   "cell_type": "code",
   "execution_count": 92,
   "metadata": {},
   "outputs": [
    {
     "data": {
      "text/html": [
       "<div>\n",
       "<style scoped>\n",
       "    .dataframe tbody tr th:only-of-type {\n",
       "        vertical-align: middle;\n",
       "    }\n",
       "\n",
       "    .dataframe tbody tr th {\n",
       "        vertical-align: top;\n",
       "    }\n",
       "\n",
       "    .dataframe thead th {\n",
       "        text-align: right;\n",
       "    }\n",
       "</style>\n",
       "<table border=\"1\" class=\"dataframe\">\n",
       "  <thead>\n",
       "    <tr style=\"text-align: right;\">\n",
       "      <th></th>\n",
       "      <th>label</th>\n",
       "      <th>text</th>\n",
       "      <th>clean_text</th>\n",
       "      <th>category_id</th>\n",
       "      <th>clean_text_tok</th>\n",
       "    </tr>\n",
       "  </thead>\n",
       "  <tbody>\n",
       "    <tr>\n",
       "      <th>0</th>\n",
       "      <td>85389000</td>\n",
       "      <td>pdscpm gb part of panel of chiller</td>\n",
       "      <td>pdscpm gb part panel chiller</td>\n",
       "      <td>0</td>\n",
       "      <td>[pdscpm, gb, part, panel, chiller]</td>\n",
       "    </tr>\n",
       "    <tr>\n",
       "      <th>1</th>\n",
       "      <td>85389000</td>\n",
       "      <td>nm  p economical extended rot hand parts for c...</td>\n",
       "      <td>nm p economical extend rot hand part circuit b...</td>\n",
       "      <td>0</td>\n",
       "      <td>[nm, p, economical, extend, rot, hand, part, c...</td>\n",
       "    </tr>\n",
       "    <tr>\n",
       "      <th>2</th>\n",
       "      <td>85389000</td>\n",
       "      <td>lv ma pd trip unit for cvs parts of circuit br...</td>\n",
       "      <td>lv pd trip unit cv part circuit breaker</td>\n",
       "      <td>0</td>\n",
       "      <td>[lv, pd, trip, unit, cv, part, circuit, breaker]</td>\n",
       "    </tr>\n",
       "    <tr>\n",
       "      <th>3</th>\n",
       "      <td>85389000</td>\n",
       "      <td>lv na p trip unit for cvs switch parts of circ...</td>\n",
       "      <td>lv na p trip unit cv switch part circuit breaker</td>\n",
       "      <td>0</td>\n",
       "      <td>[lv, na, p, trip, unit, cv, switch, part, circ...</td>\n",
       "    </tr>\n",
       "    <tr>\n",
       "      <th>4</th>\n",
       "      <td>85389000</td>\n",
       "      <td>lv tmd pd trip unit for cvs parts of circuitbr...</td>\n",
       "      <td>lv tmd pd trip unit cv part circuitbreakers</td>\n",
       "      <td>0</td>\n",
       "      <td>[lv, tmd, pd, trip, unit, cv, part, circuitbre...</td>\n",
       "    </tr>\n",
       "  </tbody>\n",
       "</table>\n",
       "</div>"
      ],
      "text/plain": [
       "      label                                               text  \\\n",
       "0  85389000                 pdscpm gb part of panel of chiller   \n",
       "1  85389000  nm  p economical extended rot hand parts for c...   \n",
       "2  85389000  lv ma pd trip unit for cvs parts of circuit br...   \n",
       "3  85389000  lv na p trip unit for cvs switch parts of circ...   \n",
       "4  85389000  lv tmd pd trip unit for cvs parts of circuitbr...   \n",
       "\n",
       "                                          clean_text  category_id  \\\n",
       "0                       pdscpm gb part panel chiller            0   \n",
       "1  nm p economical extend rot hand part circuit b...            0   \n",
       "2            lv pd trip unit cv part circuit breaker            0   \n",
       "3   lv na p trip unit cv switch part circuit breaker            0   \n",
       "4        lv tmd pd trip unit cv part circuitbreakers            0   \n",
       "\n",
       "                                      clean_text_tok  \n",
       "0                 [pdscpm, gb, part, panel, chiller]  \n",
       "1  [nm, p, economical, extend, rot, hand, part, c...  \n",
       "2   [lv, pd, trip, unit, cv, part, circuit, breaker]  \n",
       "3  [lv, na, p, trip, unit, cv, switch, part, circ...  \n",
       "4  [lv, tmd, pd, trip, unit, cv, part, circuitbre...  "
      ]
     },
     "execution_count": 92,
     "metadata": {},
     "output_type": "execute_result"
    }
   ],
   "source": [
    "df.head()"
   ]
  },
  {
   "cell_type": "code",
   "execution_count": 14,
   "metadata": {},
   "outputs": [],
   "source": [
    "from sklearn.model_selection import train_test_split\n",
    "\n",
    "#SPLITTING THE TRAINING DATASET INTO TRAIN AND TEST\n",
    "X_train, X_test, y_train, y_test = train_test_split(df[\"clean_text\"],\n",
    "                                                    df[\"category_id\"],\n",
    "                                                    test_size=0.2,shuffle=True)"
   ]
  },
  {
   "cell_type": "markdown",
   "metadata": {},
   "source": [
    "## Bag Of Words\n",
    "1. Count Vectors\n",
    "2. Term Frequency-Inverse Document Frequencies (tf-Idf)\n",
    "\n",
    "### Limitations\n",
    "* It is only useful as a lexical level feature.\n",
    "* Synonymities are neglected.\n",
    "* It doesn't capture semantic.\n",
    "* The highest TF-IDF score may not make sense with the topic of the document, since IDF gives high weight if the DF of a term is low.\n",
    "* It neglects the sequence of the terms."
   ]
  },
  {
   "cell_type": "code",
   "execution_count": 15,
   "metadata": {},
   "outputs": [],
   "source": [
    "# bag of words\n",
    "from sklearn.feature_extraction.text import CountVectorizer # Count Vectors\n",
    "from sklearn.feature_extraction.text import TfidfVectorizer # TF-IDF\n",
    "\n",
    "#Tf-Idf\n",
    "tfidf_vectorizer = TfidfVectorizer(use_idf=True) # we will use \"tfidf_vectorizer\" in prediction\n",
    "\n",
    "X_train_vectors_tfidf = tfidf_vectorizer.fit_transform(X_train) \n",
    "X_test_vectors_tfidf = tfidf_vectorizer.transform(X_test)"
   ]
  },
  {
   "cell_type": "code",
   "execution_count": 16,
   "metadata": {},
   "outputs": [
    {
     "data": {
      "text/plain": [
       "(9078, 11690)"
      ]
     },
     "execution_count": 16,
     "metadata": {},
     "output_type": "execute_result"
    }
   ],
   "source": [
    "X_train_vectors_tfidf.shape"
   ]
  },
  {
   "cell_type": "markdown",
   "metadata": {},
   "source": [
    "## Word Embedding\n",
    "1. with Word2Vec"
   ]
  },
  {
   "cell_type": "code",
   "execution_count": 19,
   "metadata": {},
   "outputs": [],
   "source": [
    "#Word2Vec\n",
    "# Word2Vec runs on tokenized sentences\n",
    "X_train_tok= [nltk.word_tokenize(i) for i in X_train]  \n",
    "X_test_tok= [nltk.word_tokenize(i) for i in X_test]"
   ]
  },
  {
   "cell_type": "code",
   "execution_count": 94,
   "metadata": {},
   "outputs": [],
   "source": [
    "import gensim\n",
    "\n",
    "#building Word2Vec model\n",
    "class MeanEmbeddingVectorizer(object):\n",
    "    def __init__(self, word2vec):\n",
    "        self.word2vec = word2vec\n",
    "        # if a text is empty we should return a vector of zeros\n",
    "        # with the same dimensionality as all the other vectors\n",
    "        self.dim = len(next(iter(word2vec.values())))\n",
    "        \n",
    "    def fit(self, X, y):\n",
    "            return self\n",
    "    def transform(self, X):\n",
    "            return np.array([\n",
    "                np.mean([self.word2vec[w] for w in words if w in self.word2vec]\n",
    "                        or [np.zeros(self.dim)], axis=0)\n",
    "                for words in X\n",
    "            ])\n",
    "        \n",
    "gen_model = gensim.models.Word2Vec(sentences=df['clean_text_tok'],workers=4,min_count=1)\n",
    "w2v = dict(zip(gen_model.wv.index_to_key, gen_model.wv.vectors))"
   ]
  },
  {
   "cell_type": "code",
   "execution_count": 96,
   "metadata": {},
   "outputs": [],
   "source": [
    "w2v_model = MeanEmbeddingVectorizer(w2v)"
   ]
  },
  {
   "cell_type": "code",
   "execution_count": 97,
   "metadata": {},
   "outputs": [],
   "source": [
    "# converting text to numerical data using Word2Vec\n",
    "X_train_vectors_w2v = w2v_model.transform(X_train_tok)\n",
    "X_val_vectors_w2v = w2v_model.transform(X_test_tok)"
   ]
  },
  {
   "cell_type": "code",
   "execution_count": 100,
   "metadata": {},
   "outputs": [
    {
     "data": {
      "text/plain": [
       "(9078, 100)"
      ]
     },
     "execution_count": 100,
     "metadata": {},
     "output_type": "execute_result"
    }
   ],
   "source": [
    "X_train_vectors_w2v.shape"
   ]
  },
  {
   "cell_type": "markdown",
   "metadata": {},
   "source": [
    "## SkLearn Models"
   ]
  },
  {
   "cell_type": "code",
   "execution_count": 101,
   "metadata": {},
   "outputs": [],
   "source": [
    "from sklearn import svm\n",
    "from sklearn.metrics import classification_report, f1_score, accuracy_score, confusion_matrix\n",
    "from sklearn.metrics import roc_curve, auc, roc_auc_score"
   ]
  },
  {
   "cell_type": "markdown",
   "metadata": {},
   "source": [
    "### BoW"
   ]
  },
  {
   "cell_type": "code",
   "execution_count": 116,
   "metadata": {},
   "outputs": [],
   "source": [
    "svm_model_bow = svm.SVC(decision_function_shape='ovo',probability=True)\n",
    "svm_model_bow.fit(X_train_vectors_tfidf,y_train)\n",
    "\n",
    "#Predict y value for test dataset\n",
    "y_predict = svm_model_bow.predict(X_test_vectors_tfidf)"
   ]
  },
  {
   "cell_type": "code",
   "execution_count": 117,
   "metadata": {},
   "outputs": [
    {
     "name": "stdout",
     "output_type": "stream",
     "text": [
      "              precision    recall  f1-score   support\n",
      "\n",
      "           0       0.84      0.91      0.87       310\n",
      "           1       0.94      0.95      0.94       307\n",
      "           2       0.86      0.75      0.80       259\n",
      "           3       0.72      0.89      0.79       322\n",
      "           4       0.97      0.87      0.92       270\n",
      "           5       0.91      0.83      0.87       203\n",
      "           6       0.86      0.88      0.87        86\n",
      "           7       0.94      0.71      0.81        21\n",
      "           8       0.79      0.77      0.78       159\n",
      "           9       1.00      0.98      0.99       124\n",
      "          10       0.88      0.75      0.81       107\n",
      "          11       0.99      0.97      0.98       102\n",
      "\n",
      "    accuracy                           0.87      2270\n",
      "   macro avg       0.89      0.86      0.87      2270\n",
      "weighted avg       0.88      0.87      0.87      2270\n",
      "\n",
      "Confusion Matrix:\n",
      " [[281   0   7  14   2   2   3   0   1   0   0   0]\n",
      " [  7 292   0   7   1   0   0   0   0   0   0   0]\n",
      " [ 15   3 195  19   2  13   9   0   2   0   1   0]\n",
      " [ 13   6   1 286   2   2   0   0  11   0   0   1]\n",
      " [  1   6   1  22 234   0   0   0   4   0   2   0]\n",
      " [  5   3  16  10   0 168   0   0   1   0   0   0]\n",
      " [  2   0   7   1   0   0  76   0   0   0   0   0]\n",
      " [  2   0   0   4   0   0   0  15   0   0   0   0]\n",
      " [  5   0   1  21   0   0   0   1 123   0   8   0]\n",
      " [  0   0   0   2   0   0   0   0   0 122   0   0]\n",
      " [  1   1   0  11   0   0   0   0  14   0  80   0]\n",
      " [  1   0   0   2   0   0   0   0   0   0   0  99]]\n",
      "\n",
      "\n",
      "SVM Classification Accuracy 0.8682819383259912\n"
     ]
    }
   ],
   "source": [
    "print(classification_report(y_test,y_predict))\n",
    "print('Confusion Matrix:\\n',confusion_matrix(y_test, y_predict))\n",
    "print('\\n')\n",
    "print('SVM Classification Accuracy',svm_model_bow.score(X_test_vectors_tfidf,y_test))"
   ]
  },
  {
   "cell_type": "markdown",
   "metadata": {},
   "source": [
    "### Word2Vec"
   ]
  },
  {
   "cell_type": "code",
   "execution_count": 144,
   "metadata": {},
   "outputs": [],
   "source": [
    "svm_model_w2v = svm.SVC(decision_function_shape='ovo',probability=True)\n",
    "svm_model_w2v.fit(X_train_vectors_w2v,y_train)\n",
    "\n",
    "#Predict y value for test dataset\n",
    "y_predict = svm_model_w2v.predict(X_val_vectors_w2v)"
   ]
  },
  {
   "cell_type": "code",
   "execution_count": 145,
   "metadata": {},
   "outputs": [
    {
     "name": "stderr",
     "output_type": "stream",
     "text": [
      "/home/rasello-ai/PyCharm Projects/python-problems/NLP_classification/venv/lib/python3.7/site-packages/sklearn/metrics/_classification.py:1318: UndefinedMetricWarning: Precision and F-score are ill-defined and being set to 0.0 in labels with no predicted samples. Use `zero_division` parameter to control this behavior.\n",
      "  _warn_prf(average, modifier, msg_start, len(result))\n",
      "/home/rasello-ai/PyCharm Projects/python-problems/NLP_classification/venv/lib/python3.7/site-packages/sklearn/metrics/_classification.py:1318: UndefinedMetricWarning: Precision and F-score are ill-defined and being set to 0.0 in labels with no predicted samples. Use `zero_division` parameter to control this behavior.\n",
      "  _warn_prf(average, modifier, msg_start, len(result))\n",
      "/home/rasello-ai/PyCharm Projects/python-problems/NLP_classification/venv/lib/python3.7/site-packages/sklearn/metrics/_classification.py:1318: UndefinedMetricWarning: Precision and F-score are ill-defined and being set to 0.0 in labels with no predicted samples. Use `zero_division` parameter to control this behavior.\n",
      "  _warn_prf(average, modifier, msg_start, len(result))\n"
     ]
    },
    {
     "name": "stdout",
     "output_type": "stream",
     "text": [
      "              precision    recall  f1-score   support\n",
      "\n",
      "           0       0.36      0.72      0.48       310\n",
      "           1       0.84      0.83      0.84       307\n",
      "           2       0.60      0.37      0.46       259\n",
      "           3       0.44      0.46      0.45       322\n",
      "           4       0.72      0.60      0.66       270\n",
      "           5       0.68      0.53      0.60       203\n",
      "           6       0.59      0.43      0.50        86\n",
      "           7       0.00      0.00      0.00        21\n",
      "           8       0.45      0.62      0.53       159\n",
      "           9       1.00      0.81      0.89       124\n",
      "          10       0.00      0.00      0.00       107\n",
      "          11       0.79      0.64      0.71       102\n",
      "\n",
      "    accuracy                           0.57      2270\n",
      "   macro avg       0.54      0.50      0.51      2270\n",
      "weighted avg       0.59      0.57      0.56      2270\n",
      "\n",
      "Confusion Matrix:\n",
      " [[224   3  18  42   9   1   4   0   8   0   0   1]\n",
      " [ 16 256   0  21   3   0   0   0  11   0   0   0]\n",
      " [ 59   5  97  16   8  47  20   0   6   0   0   1]\n",
      " [103  24   3 147  25   1   0   0  17   0   0   2]\n",
      " [ 44   9   0  37 163   0   1   0  14   0   0   2]\n",
      " [ 36   1  41  11   3 108   1   0   2   0   0   0]\n",
      " [ 43   0   2   2   0   2  37   0   0   0   0   0]\n",
      " [ 18   0   0   3   0   0   0   0   0   0   0   0]\n",
      " [ 27   4   0  20   9   0   0   0  99   0   0   0]\n",
      " [  9   0   0   4   0   0   0   0   0 100   0  11]\n",
      " [ 17   1   0  24   4   0   0   0  61   0   0   0]\n",
      " [ 29   0   0   7   1   0   0   0   0   0   0  65]]\n",
      "\n",
      "\n",
      "SVM Classification Accuracy 0.5709251101321586\n"
     ]
    }
   ],
   "source": [
    "print(classification_report(y_test,y_predict))\n",
    "print('Confusion Matrix:\\n',confusion_matrix(y_test, y_predict))\n",
    "print('\\n')\n",
    "print('SVM Classification Accuracy',svm_model_w2v.score(X_val_vectors_w2v,y_test))"
   ]
  },
  {
   "cell_type": "markdown",
   "metadata": {},
   "source": [
    "# GETTING test_data FOR NEW PREDICTION"
   ]
  },
  {
   "cell_type": "code",
   "execution_count": 146,
   "metadata": {},
   "outputs": [
    {
     "data": {
      "text/plain": [
       "5894"
      ]
     },
     "execution_count": 146,
     "metadata": {},
     "output_type": "execute_result"
    }
   ],
   "source": [
    "test = 'data/test_set.csv'\n",
    "df_test = pd.read_csv(train,header=0,encoding='ISO-8859-1')\n",
    "len(df_test)"
   ]
  },
  {
   "cell_type": "code",
   "execution_count": 147,
   "metadata": {},
   "outputs": [
    {
     "data": {
      "text/html": [
       "<div>\n",
       "<style scoped>\n",
       "    .dataframe tbody tr th:only-of-type {\n",
       "        vertical-align: middle;\n",
       "    }\n",
       "\n",
       "    .dataframe tbody tr th {\n",
       "        vertical-align: top;\n",
       "    }\n",
       "\n",
       "    .dataframe thead th {\n",
       "        text-align: right;\n",
       "    }\n",
       "</style>\n",
       "<table border=\"1\" class=\"dataframe\">\n",
       "  <thead>\n",
       "    <tr style=\"text-align: right;\">\n",
       "      <th></th>\n",
       "      <th>text</th>\n",
       "    </tr>\n",
       "  </thead>\n",
       "  <tbody>\n",
       "    <tr>\n",
       "      <th>0</th>\n",
       "      <td>lv tmd pd trip unit for nh parts of circuit br...</td>\n",
       "    </tr>\n",
       "    <tr>\n",
       "      <th>1</th>\n",
       "      <td>module tm analog outputs analog output expansi...</td>\n",
       "    </tr>\n",
       "  </tbody>\n",
       "</table>\n",
       "</div>"
      ],
      "text/plain": [
       "                                                text\n",
       "0  lv tmd pd trip unit for nh parts of circuit br...\n",
       "1  module tm analog outputs analog output expansi..."
      ]
     },
     "execution_count": 147,
     "metadata": {},
     "output_type": "execute_result"
    }
   ],
   "source": [
    "df_test.head(2)"
   ]
  },
  {
   "cell_type": "code",
   "execution_count": 148,
   "metadata": {},
   "outputs": [],
   "source": [
    "# Pre-processing the new dataset\n",
    "df_test['clean_text'] = df_test['text'].apply(lambda x: finalpreprocess(x)) #preprocess the data"
   ]
  },
  {
   "cell_type": "code",
   "execution_count": 149,
   "metadata": {},
   "outputs": [],
   "source": [
    "# converting words to numerical data using tf-idf\n",
    "X_vector=tfidf_vectorizer.transform(df_test['clean_text'])"
   ]
  },
  {
   "cell_type": "code",
   "execution_count": 150,
   "metadata": {},
   "outputs": [],
   "source": [
    "# converting words to numerical data using w2v\n",
    "X_Test_Tok = [nltk.word_tokenize(i) for i in df_test['clean_text'].values]  \n",
    "w2v_x_test = w2v_model.transform(X_Test_Tok)"
   ]
  },
  {
   "cell_type": "code",
   "execution_count": 151,
   "metadata": {},
   "outputs": [],
   "source": [
    "#use the tf-idf model to predict 'target' value for the new dataset \n",
    "Y_pred = svm_model_bow.predict(X_vector)\n",
    "df_test['target_bow'] = Y_pred\n",
    "df_test['label_bow'] = df_test['target_bow'].apply(lambda x: id_to_category[x])"
   ]
  },
  {
   "cell_type": "code",
   "execution_count": 152,
   "metadata": {},
   "outputs": [],
   "source": [
    "#use the w2v model to predict 'target' value for the new dataset \n",
    "Y_pred = svm_model_w2v.predict(w2v_x_test)\n",
    "df_test['target_w2v'] = Y_pred\n",
    "df_test['label_w2v'] = df_test['target_w2v'].apply(lambda x: id_to_category[x])"
   ]
  },
  {
   "cell_type": "code",
   "execution_count": 153,
   "metadata": {},
   "outputs": [
    {
     "data": {
      "text/html": [
       "<div>\n",
       "<style scoped>\n",
       "    .dataframe tbody tr th:only-of-type {\n",
       "        vertical-align: middle;\n",
       "    }\n",
       "\n",
       "    .dataframe tbody tr th {\n",
       "        vertical-align: top;\n",
       "    }\n",
       "\n",
       "    .dataframe thead th {\n",
       "        text-align: right;\n",
       "    }\n",
       "</style>\n",
       "<table border=\"1\" class=\"dataframe\">\n",
       "  <thead>\n",
       "    <tr style=\"text-align: right;\">\n",
       "      <th></th>\n",
       "      <th>text</th>\n",
       "      <th>clean_text</th>\n",
       "      <th>target_bow</th>\n",
       "      <th>label_bow</th>\n",
       "      <th>target_tfidf</th>\n",
       "      <th>label_tfidf</th>\n",
       "    </tr>\n",
       "  </thead>\n",
       "  <tbody>\n",
       "    <tr>\n",
       "      <th>0</th>\n",
       "      <td>lv tmd pd trip unit for nh parts of circuit br...</td>\n",
       "      <td>lv tmd pd trip unit nh part circuit breaker</td>\n",
       "      <td>0</td>\n",
       "      <td>85389000</td>\n",
       "      <td>0</td>\n",
       "      <td>85389000</td>\n",
       "    </tr>\n",
       "    <tr>\n",
       "      <th>1</th>\n",
       "      <td>module tm analog outputs analog output expansi...</td>\n",
       "      <td>module tm analog output analog output expansio...</td>\n",
       "      <td>0</td>\n",
       "      <td>85389000</td>\n",
       "      <td>0</td>\n",
       "      <td>85389000</td>\n",
       "    </tr>\n",
       "    <tr>\n",
       "      <th>2</th>\n",
       "      <td>command group t iii mechanismt p parts forcir...</td>\n",
       "      <td>command group iii mechanismt p part forcircuit...</td>\n",
       "      <td>0</td>\n",
       "      <td>85389000</td>\n",
       "      <td>0</td>\n",
       "      <td>85389000</td>\n",
       "    </tr>\n",
       "    <tr>\n",
       "      <th>3</th>\n",
       "      <td>parts of relayelectrical contact  issu e f xxup</td>\n",
       "      <td>part relayelectrical contact issu e f xxup</td>\n",
       "      <td>0</td>\n",
       "      <td>85389000</td>\n",
       "      <td>0</td>\n",
       "      <td>85389000</td>\n",
       "    </tr>\n",
       "    <tr>\n",
       "      <th>4</th>\n",
       "      <td>parts for programmable logic controllers  dm  ...</td>\n",
       "      <td>part programmable logic controller dm part plc...</td>\n",
       "      <td>0</td>\n",
       "      <td>85389000</td>\n",
       "      <td>0</td>\n",
       "      <td>85389000</td>\n",
       "    </tr>\n",
       "    <tr>\n",
       "      <th>...</th>\n",
       "      <td>...</td>\n",
       "      <td>...</td>\n",
       "      <td>...</td>\n",
       "      <td>...</td>\n",
       "      <td>...</td>\n",
       "      <td>...</td>\n",
       "    </tr>\n",
       "    <tr>\n",
       "      <th>5889</th>\n",
       "      <td>gdf latitude  portable computernotebookassyba...</td>\n",
       "      <td>gdf latitude portable computernotebookassybase...</td>\n",
       "      <td>11</td>\n",
       "      <td>84713010</td>\n",
       "      <td>0</td>\n",
       "      <td>85389000</td>\n",
       "    </tr>\n",
       "    <tr>\n",
       "      <th>5890</th>\n",
       "      <td>cfjx precision  portable computernotebook ass...</td>\n",
       "      <td>cfjx precision portable computernotebook assyb...</td>\n",
       "      <td>11</td>\n",
       "      <td>84713010</td>\n",
       "      <td>0</td>\n",
       "      <td>85389000</td>\n",
       "    </tr>\n",
       "    <tr>\n",
       "      <th>5891</th>\n",
       "      <td>eguujnnincnnnuas xuup acj note book computer l...</td>\n",
       "      <td>eguujnnincnnnuas xuup acj note book computer l...</td>\n",
       "      <td>11</td>\n",
       "      <td>84713010</td>\n",
       "      <td>11</td>\n",
       "      <td>84713010</td>\n",
       "    </tr>\n",
       "    <tr>\n",
       "      <th>5892</th>\n",
       "      <td>egubjnninnnnums wwup note book computer laptop...</td>\n",
       "      <td>egubjnninnnnums wwup note book computer laptop...</td>\n",
       "      <td>11</td>\n",
       "      <td>84713010</td>\n",
       "      <td>11</td>\n",
       "      <td>84713010</td>\n",
       "    </tr>\n",
       "    <tr>\n",
       "      <th>5893</th>\n",
       "      <td>lqav hp ids uma iu  g bnbpchp laptophstnnicbis...</td>\n",
       "      <td>lqav hp id uma iu g bnbpchp laptophstnnicbis</td>\n",
       "      <td>11</td>\n",
       "      <td>84713010</td>\n",
       "      <td>11</td>\n",
       "      <td>84713010</td>\n",
       "    </tr>\n",
       "  </tbody>\n",
       "</table>\n",
       "<p>5894 rows × 6 columns</p>\n",
       "</div>"
      ],
      "text/plain": [
       "                                                   text  \\\n",
       "0     lv tmd pd trip unit for nh parts of circuit br...   \n",
       "1     module tm analog outputs analog output expansi...   \n",
       "2      command group t iii mechanismt p parts forcir...   \n",
       "3       parts of relayelectrical contact  issu e f xxup   \n",
       "4     parts for programmable logic controllers  dm  ...   \n",
       "...                                                 ...   \n",
       "5889   gdf latitude  portable computernotebookassyba...   \n",
       "5890   cfjx precision  portable computernotebook ass...   \n",
       "5891  eguujnnincnnnuas xuup acj note book computer l...   \n",
       "5892  egubjnninnnnums wwup note book computer laptop...   \n",
       "5893  lqav hp ids uma iu  g bnbpchp laptophstnnicbis...   \n",
       "\n",
       "                                             clean_text  target_bow  \\\n",
       "0           lv tmd pd trip unit nh part circuit breaker           0   \n",
       "1     module tm analog output analog output expansio...           0   \n",
       "2     command group iii mechanismt p part forcircuit...           0   \n",
       "3            part relayelectrical contact issu e f xxup           0   \n",
       "4     part programmable logic controller dm part plc...           0   \n",
       "...                                                 ...         ...   \n",
       "5889  gdf latitude portable computernotebookassybase...          11   \n",
       "5890  cfjx precision portable computernotebook assyb...          11   \n",
       "5891  eguujnnincnnnuas xuup acj note book computer l...          11   \n",
       "5892  egubjnninnnnums wwup note book computer laptop...          11   \n",
       "5893       lqav hp id uma iu g bnbpchp laptophstnnicbis          11   \n",
       "\n",
       "      label_bow  target_tfidf  label_tfidf  \n",
       "0      85389000             0     85389000  \n",
       "1      85389000             0     85389000  \n",
       "2      85389000             0     85389000  \n",
       "3      85389000             0     85389000  \n",
       "4      85389000             0     85389000  \n",
       "...         ...           ...          ...  \n",
       "5889   84713010             0     85389000  \n",
       "5890   84713010             0     85389000  \n",
       "5891   84713010            11     84713010  \n",
       "5892   84713010            11     84713010  \n",
       "5893   84713010            11     84713010  \n",
       "\n",
       "[5894 rows x 6 columns]"
      ]
     },
     "execution_count": 153,
     "metadata": {},
     "output_type": "execute_result"
    }
   ],
   "source": [
    "df_test"
   ]
  },
  {
   "cell_type": "code",
   "execution_count": 158,
   "metadata": {},
   "outputs": [
    {
     "data": {
      "text/plain": [
       "0     735\n",
       "2     698\n",
       "1     641\n",
       "3     618\n",
       "4     484\n",
       "8     468\n",
       "5     467\n",
       "7     395\n",
       "9     384\n",
       "6     358\n",
       "11    328\n",
       "10    318\n",
       "Name: target_bow, dtype: int64"
      ]
     },
     "execution_count": 158,
     "metadata": {},
     "output_type": "execute_result"
    }
   ],
   "source": [
    "(df_test['target_bow']).value_counts()"
   ]
  },
  {
   "cell_type": "code",
   "execution_count": null,
   "metadata": {},
   "outputs": [],
   "source": []
  },
  {
   "cell_type": "markdown",
   "metadata": {},
   "source": [
    "### Keras Model"
   ]
  },
  {
   "cell_type": "code",
   "execution_count": 65,
   "metadata": {},
   "outputs": [],
   "source": [
    "import tensorflow as tf\n",
    "from tensorflow.keras.models import Sequential\n",
    "from tensorflow.keras.layers import Dense, Dropout\n",
    "\n",
    "def batch_generator_shuffle(X_data, y_data, batch_size):\n",
    "    samples_per_epoch = X_data.shape[0]\n",
    "    number_of_batches = samples_per_epoch/batch_size\n",
    "    counter=0\n",
    "    index = np.arange(np.shape(y_data)[0])\n",
    "    np.random.shuffle(index)\n",
    "    while 1:\n",
    "        index_batch = index[batch_size*counter:batch_size*(counter+1)]\n",
    "        X_batch = X_data[index_batch,:].toarray()\n",
    "        y_batch = y_data[y_data.index[index_batch]]\n",
    "        counter += 1\n",
    "        yield tf.expand_dims(X_batch, 0), X_batch\n",
    "        if (counter > number_of_batches):\n",
    "            np.random.shuffle(index)\n",
    "            counter=0\n",
    "\n",
    "model = Sequential()\n",
    "model.add(Dense(128, activation='relu',input_shape=(32,11666)))\n",
    "model.add(Dropout(0.2))\n",
    "model.add(Dense(1, activation='softmax'))\n",
    "model.compile(optimizer='adam',\n",
    "              loss='categorical_crossentropy',\n",
    "              metrics=['categorical_accuracy'])\n",
    "\n",
    "model.fit_generator(generator=batch_generator_shuffle(X_train_vectors_tfidf, y_train, 32),\n",
    "                    epochs=5, \n",
    "                    validation_data=(X_test_vectors_tfidf, y_test),\n",
    "                    steps_per_epoch=X_train_vectors_tfidf.shape[0]//32)"
   ]
  }
 ],
 "metadata": {
  "kernelspec": {
   "display_name": "Python 3 (ipykernel)",
   "language": "python",
   "name": "python3"
  },
  "language_info": {
   "codemirror_mode": {
    "name": "ipython",
    "version": 3
   },
   "file_extension": ".py",
   "mimetype": "text/x-python",
   "name": "python",
   "nbconvert_exporter": "python",
   "pygments_lexer": "ipython3",
   "version": "3.7.12"
  }
 },
 "nbformat": 4,
 "nbformat_minor": 1
}